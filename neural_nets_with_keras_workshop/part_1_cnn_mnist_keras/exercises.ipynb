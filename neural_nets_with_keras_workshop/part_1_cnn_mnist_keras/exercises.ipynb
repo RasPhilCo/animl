{
 "cells": [
  {
   "cell_type": "markdown",
   "metadata": {},
   "source": [
    "### ANIML -- Applied Neuroimaging Machine Learning \n",
    "\n",
    "\n",
    "# Intro to CNN's with Keras & MNIST, Predicting Digits\n",
    "\n",
    "\n",
    "### Building Neural Networks with Keras Workshop\n",
    "### 2/2 & 2/9/2018, Neuroscience Research Building Dive, UCLA\n",
    "## Philipe Navarro\n",
    "---"
   ]
  },
  {
   "cell_type": "markdown",
   "metadata": {},
   "source": [
    "## Exercises\n",
    "1. Increase the number of epochs (20 or more) until you see overfitting and plot Validation Accuracy vs Epochs.\n",
    "2. Tune hyper-paramers, or even the model architure itself, until you achieve >99% accuracy. \n",
    "3. Make the classifier class much more flexible but allowing each classifier instace to be given its testing hyper-parameters. (Bonus: Train, evaulate and compare those different instances!)"
   ]
  },
  {
   "cell_type": "code",
   "execution_count": null,
   "metadata": {
    "collapsed": true
   },
   "outputs": [],
   "source": [
    "import numpy as np\n",
    "import pandas as pd\n",
    "import matplotlib\n",
    "import matplotlib.pyplot as plt\n",
    "%matplotlib inline\n",
    "import keras\n",
    "from keras.datasets import mnist\n",
    "from keras.models import Sequential\n",
    "from keras.layers import Dense, Dropout, Activation, Flatten\n",
    "from keras.layers import Conv2D, MaxPooling2D\n",
    "from keras.utils import np_utils"
   ]
  },
  {
   "cell_type": "code",
   "execution_count": 6,
   "metadata": {
    "collapsed": true
   },
   "outputs": [],
   "source": [
    "seed = 7\n",
    "np.random.seed(seed)"
   ]
  },
  {
   "cell_type": "code",
   "execution_count": 2,
   "metadata": {},
   "outputs": [
    {
     "name": "stdout",
     "output_type": "stream",
     "text": [
      "Downloading data from https://s3.amazonaws.com/img-datasets/mnist.npz\n",
      "11493376/11490434 [==============================] - 25s 2us/step\n"
     ]
    }
   ],
   "source": [
    "# load up X & y nought\n",
    "(X_train0, y_train0), (X_test0, y_test0) = mnist.load_data()"
   ]
  },
  {
   "cell_type": "code",
   "execution_count": 3,
   "metadata": {
    "collapsed": true
   },
   "outputs": [],
   "source": [
    "X_train, y_train, X_test, y_test = X_train0, y_train0, X_test0, y_test0"
   ]
  },
  {
   "cell_type": "code",
   "execution_count": 39,
   "metadata": {
    "collapsed": true
   },
   "outputs": [],
   "source": [
    "class LeNetMnistClassifier():\n",
    "    @staticmethod\n",
    "    def toDigit(hot_encode):\n",
    "        return np.argmax(hot_encode)\n",
    "        \n",
    "    def __init__(self, **kwargs):\n",
    "        if kwargs.get(\"model_path\", None):\n",
    "            from keras.models import load_model\n",
    "            self.model = load_model(kwargs['model_path'])\n",
    "        else:\n",
    "            self.activation_function = kwargs.pop('activation_function', 'relu')\n",
    "            self.batch_size = kwargs.pop('batch_size', 128)\n",
    "            self.epochs = kwargs.pop('epochs', 5)\n",
    "            self.kernal_size = kwargs.pop('kernal_size', (3, 3))\n",
    "            self.loss_function = kwargs.pop('loss_function', 'categorical_crossentropy')\n",
    "            self.optimizer = kwargs.pop('optimizer', 'sgd')\n",
    "            self.pool_size = kwargs.pop('pool_size', (2, 2))\n",
    "            self.model = self._model()\n",
    "    \n",
    "    def _model(self):\n",
    "        model = Sequential()\n",
    "        model.add(Conv2D(32, kernel_size=self.kernal_size,\n",
    "                 activation=self.activation_function,\n",
    "                 input_shape=(28,28,1)))\n",
    "        model.add(MaxPooling2D(pool_size=self.pool_size))\n",
    "        model.add(Conv2D(64, self.kernal_size, activation=self.activation_function))\n",
    "        model.add(MaxPooling2D(pool_size=self.pool_size))\n",
    "        model.add(Dropout(0.25))\n",
    "        model.add(Flatten())\n",
    "        model.add(Dense(128, activation=self.activation_function))\n",
    "        model.add(Dropout(0.5))\n",
    "        model.add(Dense(10, activation='softmax'))\n",
    "        \n",
    "        return model\n",
    "    \n",
    "    def predict(self, digits=()):\n",
    "        return self.model.predict(digits)\n",
    "    \n",
    "    def evaluate(self, X_test=None, y_test=None):\n",
    "        X_test = X_test.reshape(X_test.shape[0], 28, 28, 1)\n",
    "        X_test = X_test.astype('float32')\n",
    "        X_test/=255        \n",
    "        number_of_classes = 10\n",
    "        y_test = np_utils.to_categorical(y_test, number_of_classes)\n",
    "        return self.model.evaluate(X_test, y_test)\n",
    "    \n",
    "    def preprocess_and_train(self, X_train=None, y_train=None, X_test=None, y_test=None):\n",
    "        self._train(*self._preprocess(X_train, y_train, X_test, y_test))\n",
    "        \n",
    "    def _preprocess(self, X_train, y_train, X_test, y_test):\n",
    "        X_train = X_train.reshape(X_train.shape[0], 28, 28, 1)\n",
    "        X_test = X_test.reshape(X_test.shape[0], 28, 28, 1)\n",
    "\n",
    "        X_train = X_train.astype('float32')\n",
    "        X_test = X_test.astype('float32')\n",
    "        \n",
    "        X_train/=255\n",
    "        X_test/=255\n",
    "        \n",
    "        number_of_classes = 10\n",
    "        y_train = np_utils.to_categorical(y_train, number_of_classes)\n",
    "        y_test = np_utils.to_categorical(y_test, number_of_classes)\n",
    "        \n",
    "        return X_train, y_train, X_test, y_test\n",
    "    \n",
    "    def _train(self, X_train, y_train, X_test, y_test):\n",
    "        self.model.compile(loss=self.loss_function,\n",
    "              optimizer=self.optimizer,\n",
    "              metrics=['accuracy'])\n",
    "        \n",
    "        fit_output = self.model.fit(X_train,\n",
    "                        y_train,\n",
    "                        batch_size=self.batch_size,\n",
    "                        epochs=self.epochs,\n",
    "                        verbose=1,\n",
    "                        validation_data=(X_test, y_test))\n",
    "        self._history = fit_output.history\n",
    "        \n",
    "        import time\n",
    "        timestr = time.strftime(\"%Y%m%d-%H%M%S\")\n",
    "        self.model.save(\"lenet_mnist_{0}.h5\".format(timestr)) \n",
    "    \n",
    "    @property\n",
    "    def history(self):\n",
    "        return self._history"
   ]
  },
  {
   "cell_type": "code",
   "execution_count": 33,
   "metadata": {},
   "outputs": [
    {
     "name": "stdout",
     "output_type": "stream",
     "text": [
      "Train on 60000 samples, validate on 10000 samples\n",
      "Epoch 1/30\n",
      "60000/60000 [==============================] - 64s 1ms/step - loss: 0.3154 - acc: 0.9003 - val_loss: 0.0705 - val_acc: 0.9788\n",
      "Epoch 2/30\n",
      "60000/60000 [==============================] - 63s 1ms/step - loss: 0.1085 - acc: 0.9676 - val_loss: 0.0531 - val_acc: 0.9825\n",
      "Epoch 3/30\n",
      "60000/60000 [==============================] - 63s 1ms/step - loss: 0.0828 - acc: 0.9753 - val_loss: 0.0366 - val_acc: 0.9879\n",
      "Epoch 4/30\n",
      "60000/60000 [==============================] - 63s 1ms/step - loss: 0.0686 - acc: 0.9795 - val_loss: 0.0333 - val_acc: 0.9882\n",
      "Epoch 5/30\n",
      "60000/60000 [==============================] - 63s 1ms/step - loss: 0.0615 - acc: 0.9819 - val_loss: 0.0272 - val_acc: 0.9898\n",
      "Epoch 6/30\n",
      "60000/60000 [==============================] - 63s 1ms/step - loss: 0.0531 - acc: 0.9839 - val_loss: 0.0274 - val_acc: 0.9901\n",
      "Epoch 7/30\n",
      "60000/60000 [==============================] - 64s 1ms/step - loss: 0.0490 - acc: 0.9851 - val_loss: 0.0256 - val_acc: 0.9912\n",
      "Epoch 8/30\n",
      "60000/60000 [==============================] - 64s 1ms/step - loss: 0.0444 - acc: 0.9867 - val_loss: 0.0249 - val_acc: 0.9906\n",
      "Epoch 9/30\n",
      "60000/60000 [==============================] - 64s 1ms/step - loss: 0.0426 - acc: 0.9871 - val_loss: 0.0219 - val_acc: 0.9922\n",
      "Epoch 10/30\n",
      "60000/60000 [==============================] - 64s 1ms/step - loss: 0.0401 - acc: 0.9879 - val_loss: 0.0214 - val_acc: 0.9928\n",
      "Epoch 11/30\n",
      "60000/60000 [==============================] - 64s 1ms/step - loss: 0.0370 - acc: 0.9888 - val_loss: 0.0218 - val_acc: 0.9923\n",
      "Epoch 12/30\n",
      "60000/60000 [==============================] - 64s 1ms/step - loss: 0.0364 - acc: 0.9889 - val_loss: 0.0217 - val_acc: 0.9928\n",
      "Epoch 13/30\n",
      "60000/60000 [==============================] - 64s 1ms/step - loss: 0.0339 - acc: 0.9902 - val_loss: 0.0208 - val_acc: 0.9931\n",
      "Epoch 14/30\n",
      "60000/60000 [==============================] - 64s 1ms/step - loss: 0.0332 - acc: 0.9902 - val_loss: 0.0226 - val_acc: 0.9927\n",
      "Epoch 15/30\n",
      "60000/60000 [==============================] - 64s 1ms/step - loss: 0.0312 - acc: 0.9907 - val_loss: 0.0213 - val_acc: 0.9930\n",
      "Epoch 16/30\n",
      "60000/60000 [==============================] - 64s 1ms/step - loss: 0.0278 - acc: 0.9913 - val_loss: 0.0213 - val_acc: 0.9935\n",
      "Epoch 17/30\n",
      "60000/60000 [==============================] - 64s 1ms/step - loss: 0.0272 - acc: 0.9917 - val_loss: 0.0206 - val_acc: 0.9934\n",
      "Epoch 18/30\n",
      "60000/60000 [==============================] - 64s 1ms/step - loss: 0.0267 - acc: 0.9921 - val_loss: 0.0192 - val_acc: 0.9937\n",
      "Epoch 19/30\n",
      "60000/60000 [==============================] - 65s 1ms/step - loss: 0.0259 - acc: 0.9917 - val_loss: 0.0197 - val_acc: 0.9937\n",
      "Epoch 20/30\n",
      "60000/60000 [==============================] - 61s 1ms/step - loss: 0.0242 - acc: 0.9925 - val_loss: 0.0191 - val_acc: 0.9927\n",
      "Epoch 21/30\n",
      "60000/60000 [==============================] - 60s 1ms/step - loss: 0.0233 - acc: 0.9925 - val_loss: 0.0203 - val_acc: 0.9940\n",
      "Epoch 22/30\n",
      "60000/60000 [==============================] - 60s 1ms/step - loss: 0.0242 - acc: 0.9929 - val_loss: 0.0183 - val_acc: 0.9935\n",
      "Epoch 23/30\n",
      "60000/60000 [==============================] - 59s 984us/step - loss: 0.0223 - acc: 0.9930 - val_loss: 0.0221 - val_acc: 0.9932\n",
      "Epoch 24/30\n",
      "60000/60000 [==============================] - 60s 1ms/step - loss: 0.0211 - acc: 0.9933 - val_loss: 0.0195 - val_acc: 0.9942\n",
      "Epoch 25/30\n",
      "60000/60000 [==============================] - 60s 998us/step - loss: 0.0219 - acc: 0.9933 - val_loss: 0.0176 - val_acc: 0.9938\n",
      "Epoch 26/30\n",
      "60000/60000 [==============================] - 60s 996us/step - loss: 0.0215 - acc: 0.9932 - val_loss: 0.0191 - val_acc: 0.9943\n",
      "Epoch 27/30\n",
      "60000/60000 [==============================] - 60s 997us/step - loss: 0.0203 - acc: 0.9932 - val_loss: 0.0186 - val_acc: 0.9947\n",
      "Epoch 28/30\n",
      "60000/60000 [==============================] - 61s 1ms/step - loss: 0.0218 - acc: 0.9929 - val_loss: 0.0184 - val_acc: 0.9946\n",
      "Epoch 29/30\n",
      "60000/60000 [==============================] - 60s 1000us/step - loss: 0.0200 - acc: 0.9938 - val_loss: 0.0178 - val_acc: 0.9941\n",
      "Epoch 30/30\n",
      "60000/60000 [==============================] - 88s 1ms/step - loss: 0.0192 - acc: 0.9944 - val_loss: 0.0187 - val_acc: 0.9943\n"
     ]
    }
   ],
   "source": [
    "classifier = LeNetMnistClassifier(epochs=30, optimizer=keras.optimizers.Adadelta())\n",
    "classifier.preprocess_and_train(X_train=X_train0, y_train=y_train0, X_test=X_test0, y_test=y_test0)"
   ]
  },
  {
   "cell_type": "code",
   "execution_count": 41,
   "metadata": {},
   "outputs": [
    {
     "name": "stdout",
     "output_type": "stream",
     "text": [
      "10000/10000 [==============================] - 4s 447us/step\n",
      "\n",
      "Test accuracy:  0.9943\n"
     ]
    }
   ],
   "source": [
    "classifier = LeNetMnistClassifier(model_path=\"./lenet_mnist_20180208-235048.h5\")\n",
    "score = classifier.evaluate(X_test0, y_test0)\n",
    "print(\"\\nTest accuracy: \", score[1])"
   ]
  },
  {
   "cell_type": "code",
   "execution_count": 35,
   "metadata": {},
   "outputs": [
    {
     "name": "stdout",
     "output_type": "stream",
     "text": [
      "dict_keys(['val_acc', 'acc', 'loss', 'val_loss'])\n"
     ]
    },
    {
     "data": {
      "image/png": "[encoded data removed]",
      "text/plain": [
       "<matplotlib.figure.Figure at 0x7f46d597bac8>"
      ]
     },
     "metadata": {},
     "output_type": "display_data"
    },
    {
     "data": {
      "image/png": "[encoded data removed]",
      "text/plain": [
       "<matplotlib.figure.Figure at 0x7f46c69c4128>"
      ]
     },
     "metadata": {},
     "output_type": "display_data"
    }
   ],
   "source": [
    "history = classifier.history\n",
    "print(history.keys())\n",
    "# summarize history for accuracy\n",
    "plt.plot(history['acc'])\n",
    "plt.plot(history['val_acc'])\n",
    "plt.title('model accuracy')\n",
    "plt.ylabel('accuracy')\n",
    "plt.xlabel('epoch')\n",
    "plt.legend(['train', 'test'], loc='upper left')\n",
    "plt.show()\n",
    "# summarize history for loss\n",
    "plt.plot(history['loss'])\n",
    "plt.plot(history['val_loss'])\n",
    "plt.title('model loss')\n",
    "plt.ylabel('loss')\n",
    "plt.xlabel('epoch')\n",
    "plt.legend(['train', 'test'], loc='upper left')\n",
    "plt.show()"
   ]
  },
  {
   "cell_type": "code",
   "execution_count": null,
   "metadata": {
    "collapsed": true
   },
   "outputs": [],
   "source": []
  }
 ],
 "metadata": {
  "kernelspec": {
   "display_name": "Python 3",
   "language": "python",
   "name": "python3"
  },
  "language_info": {
   "codemirror_mode": {
    "name": "ipython",
    "version": 3
   },
   "file_extension": ".py",
   "mimetype": "text/x-python",
   "name": "python",
   "nbconvert_exporter": "python",
   "pygments_lexer": "ipython3",
   "version": "3.5.2"
  },
  "widgets": {
   "state": {},
   "version": "1.1.2"
  }
 },
 "nbformat": 4,
 "nbformat_minor": 2
}
