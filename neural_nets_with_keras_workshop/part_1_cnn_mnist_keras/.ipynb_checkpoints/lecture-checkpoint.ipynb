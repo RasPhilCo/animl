{
 "cells": [
  {
   "cell_type": "markdown",
   "metadata": {},
   "source": [
    "### ANIML -- Applied Neuroimaging Machine Learning \n",
    "\n",
    "\n",
    "# Intro to CNN's with Keras & MNIST, Predicting Digits\n",
    "\n",
    "\n",
    "### Building Neural Networks with Keras Workshop\n",
    "### 2/2 & 2/9/2018, Neuroscience Research Building Dive, UCLA\n",
    "## Philipe Navarro\n",
    "---"
   ]
  },
  {
   "cell_type": "markdown",
   "metadata": {},
   "source": [
    "### To begin, let's quickly answer:\n",
    "- What is machine learning & what is deep learning\n",
    "- What are CNN’s and what are they useful for\n",
    "- What is a useful, general ML problem solving methodology"
   ]
  },
  {
   "cell_type": "markdown",
   "metadata": {},
   "source": [
    "## What is machine learning & what is deep learning\n",
    "---"
   ]
  },
  {
   "cell_type": "markdown",
   "metadata": {},
   "source": [
    "Arthur Samuel, 1959\n",
    "> [Machine learning is the] field of study that give comuters the ability to learn without being explicitly programmed.\n",
    "\n",
    "\n",
    "Tom Mitchell, 1997\n",
    "> A computer program is said to learn from experience E with respect to some task T and some performance measure P, if its performance on T, as measured by P, improves with experience E.\n"
   ]
  },
  {
   "cell_type": "markdown",
   "metadata": {},
   "source": [
    "Jason Brownlee\n",
    "> Deep Learning is a subfield of machine learning concerned with algorithms inspired by the structure and function of the brain called artificial neural networks.\n",
    "\n",
    "#### Deep learning generally always includes nueral nets\n",
    "\n",
    "![](https://cdn-images-1.medium.com/max/479/1*QVIyc5HnGDWTNX3m-nIm9w.png)\n",
    "\n",
    "#### Deep learning often includes:\n",
    "- \"Big Data\"\n",
    "- Distributed computing (ideally on GPU's)\n",
    "\n",
    "![](https://whatsthebigdata.files.wordpress.com/2017/04/machinelearning_cheatsheet.png?w=640)\n"
   ]
  },
  {
   "cell_type": "markdown",
   "metadata": {},
   "source": [
    "## What are CNN’s and what are they useful for"
   ]
  },
  {
   "cell_type": "markdown",
   "metadata": {},
   "source": [
    "Wikipedia, \"Convolutional Neural Nets\"\n",
    "> In machine learning, a convolutional neural network (CNN, or ConvNet) is a class of deep, feed-forward artificial neural networks that has successfully been applied to analyzing visual imagery.\n",
    "\n",
    "![](https://i.stack.imgur.com/f2RiP.gif)\n",
    "\n",
    "![](https://cdn-images-1.medium.com/max/1600/1*ZCjPUFrB6eHPRi4eyP6aaA.gif)\n",
    "\n",
    "![](https://upload.wikimedia.org/wikipedia/commons/e/e9/Max_pooling.png)\n",
    "\n",
    "![](http://www.mshahriarinia.com/_/rsrc/1478569779060/home/ai/machine-learning/neural-networks/deep-learning/python/theano-mnist/3-convolutional-neural-network-lenet/Screen%20Shot%202015-02-23%20at%202.21.01%20PM.png?height=324&width=600)\n",
    "\n",
    "![](https://cdn-images-1.medium.com/max/1200/1*OHifHVQLIIumP865ASipXA.png)\n",
    "\n",
    "![](https://image.slidesharecdn.com/borth-2017-06-14-deeplearning-170614161531/95/deep-learning-the-future-of-ai-31-638.jpg?cb=1497457047)"
   ]
  },
  {
   "cell_type": "markdown",
   "metadata": {},
   "source": [
    "## What is a useful, general ML problem solving methodology\n",
    "---"
   ]
  },
  {
   "cell_type": "markdown",
   "metadata": {},
   "source": [
    "Aurelien Geron, \"Hands-On Machine Learning with Scikit-Learn & Tensorflow\"\n",
    "> 1. Look at the big picture\n",
    "> 2. Get the data\n",
    "> 3. Discover and visualize the data to gain insights\n",
    "> 4. Prepare the data for Machine Learning algorithms\n",
    "> 5. Select a model and train it\n",
    "> 6. Fine-tune your model\n",
    "> 7. Present your solution\n",
    "> 8. Launch, moniter, and maintain your system"
   ]
  },
  {
   "cell_type": "code",
   "execution_count": null,
   "metadata": {
    "collapsed": true
   },
   "outputs": [],
   "source": []
  }
 ],
 "metadata": {
  "kernelspec": {
   "display_name": "Python 3",
   "language": "python",
   "name": "python3"
  },
  "language_info": {
   "codemirror_mode": {
    "name": "ipython",
    "version": 3
   },
   "file_extension": ".py",
   "mimetype": "text/x-python",
   "name": "python",
   "nbconvert_exporter": "python",
   "pygments_lexer": "ipython3",
   "version": "3.5.2"
  },
  "widgets": {
   "state": {},
   "version": "1.1.2"
  }
 },
 "nbformat": 4,
 "nbformat_minor": 2
}
